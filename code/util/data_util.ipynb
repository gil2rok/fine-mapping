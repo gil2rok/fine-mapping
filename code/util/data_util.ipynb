{
 "cells": [
  {
   "cell_type": "markdown",
   "id": "6d59383c",
   "metadata": {},
   "source": [
    "# Imports Packages"
   ]
  },
  {
   "cell_type": "code",
   "execution_count": 1,
   "id": "5ed462e9",
   "metadata": {},
   "outputs": [],
   "source": [
    "from collections import defaultdict\n",
    "import pandas as pd\n",
    "import numpy as np\n",
    "\n",
    "from pandas_plink import read_plink\n",
    "from scipy.special import softmax\n",
    "from numpy.random import default_rng "
   ]
  },
  {
   "cell_type": "code",
   "execution_count": 2,
   "id": "2dc14c2c",
   "metadata": {},
   "outputs": [],
   "source": [
    "seed = 3\n",
    "rng = default_rng(seed=seed)\n",
    "path = '../data/' # relative path to data directory"
   ]
  },
  {
   "cell_type": "markdown",
   "id": "4787c692",
   "metadata": {},
   "source": [
    "# Import Data"
   ]
  },
  {
   "cell_type": "code",
   "execution_count": 47,
   "id": "de490f30",
   "metadata": {},
   "outputs": [
    {
     "data": {
      "text/plain": [
       "4.5734391631690885"
      ]
     },
     "execution_count": 47,
     "metadata": {},
     "output_type": "execute_result"
    }
   ],
   "source": [
    "r = 1.4144\n",
    "k = 0.0146\n",
    "np.log(r/k)"
   ]
  },
  {
   "cell_type": "code",
   "execution_count": 3,
   "id": "3af8297a",
   "metadata": {},
   "outputs": [
    {
     "name": "stderr",
     "output_type": "stream",
     "text": [
      "Mapping files: 100%|██████████| 3/3 [00:00<00:00,  6.61it/s]\n"
     ]
    },
    {
     "data": {
      "text/html": [
       "<table>\n",
       "    <tr>\n",
       "        <td>\n",
       "            <table>\n",
       "                <thead>\n",
       "                    <tr>\n",
       "                        <td> </td>\n",
       "                        <th> Array </th>\n",
       "                        <th> Chunk </th>\n",
       "                    </tr>\n",
       "                </thead>\n",
       "                <tbody>\n",
       "                    \n",
       "                    <tr>\n",
       "                        <th> Bytes </th>\n",
       "                        <td> 897.33 MiB </td>\n",
       "                        <td> 1.26 MiB </td>\n",
       "                    </tr>\n",
       "                    \n",
       "                    <tr>\n",
       "                        <th> Shape </th>\n",
       "                        <td> (730525, 322) </td>\n",
       "                        <td> (1024, 322) </td>\n",
       "                    </tr>\n",
       "                    <tr>\n",
       "                        <th> Count </th>\n",
       "                        <td> 1431 Graph Layers </td>\n",
       "                        <td> 714 Chunks </td>\n",
       "                    </tr>\n",
       "                    <tr>\n",
       "                    <th> Type </th>\n",
       "                    <td> float32 </td>\n",
       "                    <td> numpy.ndarray </td>\n",
       "                    </tr>\n",
       "                </tbody>\n",
       "            </table>\n",
       "        </td>\n",
       "        <td>\n",
       "        <svg width=\"75\" height=\"170\" style=\"stroke:rgb(0,0,0);stroke-width:1\" >\n",
       "\n",
       "  <!-- Horizontal lines -->\n",
       "  <line x1=\"0\" y1=\"0\" x2=\"25\" y2=\"0\" style=\"stroke-width:2\" />\n",
       "  <line x1=\"0\" y1=\"6\" x2=\"25\" y2=\"6\" />\n",
       "  <line x1=\"0\" y1=\"12\" x2=\"25\" y2=\"12\" />\n",
       "  <line x1=\"0\" y1=\"18\" x2=\"25\" y2=\"18\" />\n",
       "  <line x1=\"0\" y1=\"25\" x2=\"25\" y2=\"25\" />\n",
       "  <line x1=\"0\" y1=\"31\" x2=\"25\" y2=\"31\" />\n",
       "  <line x1=\"0\" y1=\"37\" x2=\"25\" y2=\"37\" />\n",
       "  <line x1=\"0\" y1=\"44\" x2=\"25\" y2=\"44\" />\n",
       "  <line x1=\"0\" y1=\"50\" x2=\"25\" y2=\"50\" />\n",
       "  <line x1=\"0\" y1=\"56\" x2=\"25\" y2=\"56\" />\n",
       "  <line x1=\"0\" y1=\"63\" x2=\"25\" y2=\"63\" />\n",
       "  <line x1=\"0\" y1=\"69\" x2=\"25\" y2=\"69\" />\n",
       "  <line x1=\"0\" y1=\"75\" x2=\"25\" y2=\"75\" />\n",
       "  <line x1=\"0\" y1=\"82\" x2=\"25\" y2=\"82\" />\n",
       "  <line x1=\"0\" y1=\"88\" x2=\"25\" y2=\"88\" />\n",
       "  <line x1=\"0\" y1=\"94\" x2=\"25\" y2=\"94\" />\n",
       "  <line x1=\"0\" y1=\"101\" x2=\"25\" y2=\"101\" />\n",
       "  <line x1=\"0\" y1=\"107\" x2=\"25\" y2=\"107\" />\n",
       "  <line x1=\"0\" y1=\"113\" x2=\"25\" y2=\"113\" />\n",
       "  <line x1=\"0\" y1=\"120\" x2=\"25\" y2=\"120\" style=\"stroke-width:2\" />\n",
       "\n",
       "  <!-- Vertical lines -->\n",
       "  <line x1=\"0\" y1=\"0\" x2=\"0\" y2=\"120\" style=\"stroke-width:2\" />\n",
       "  <line x1=\"25\" y1=\"0\" x2=\"25\" y2=\"120\" style=\"stroke-width:2\" />\n",
       "\n",
       "  <!-- Colored Rectangle -->\n",
       "  <polygon points=\"0.0,0.0 25.412616514582485,0.0 25.412616514582485,120.0 0.0,120.0\" style=\"fill:#8B4903A0;stroke-width:0\"/>\n",
       "\n",
       "  <!-- Text -->\n",
       "  <text x=\"12.706308\" y=\"140.000000\" font-size=\"1.0rem\" font-weight=\"100\" text-anchor=\"middle\" >322</text>\n",
       "  <text x=\"45.412617\" y=\"60.000000\" font-size=\"1.0rem\" font-weight=\"100\" text-anchor=\"middle\" transform=\"rotate(-90,45.412617,60.000000)\">730525</text>\n",
       "</svg>\n",
       "        </td>\n",
       "    </tr>\n",
       "</table>"
      ],
      "text/plain": [
       "dask.array<transpose, shape=(730525, 322), dtype=float32, chunksize=(1024, 322), chunktype=numpy.ndarray>"
      ]
     },
     "execution_count": 3,
     "metadata": {},
     "output_type": "execute_result"
    }
   ],
   "source": [
    "bim, fam, bed = read_plink(path + 'CEDAR/CEDAR')\n",
    "bed # [730K SNPs x 322 ppl] = [num_total_SNPs x num_ppl]"
   ]
  },
  {
   "cell_type": "markdown",
   "id": "9a559863",
   "metadata": {},
   "source": [
    "# Set Defaults"
   ]
  },
  {
   "cell_type": "code",
   "execution_count": 32,
   "id": "f9917498",
   "metadata": {},
   "outputs": [],
   "source": [
    "# default values\n",
    "num_cs = 500 # num causal SNPs\n",
    "num_annotations = 5\n",
    "num_loci = 100\n",
    "\n",
    "max_num_SNPs = 2000 # max num of SNPs any loci might have, set manually\n",
    "num_ppl = bed.shape[1]"
   ]
  },
  {
   "cell_type": "code",
   "execution_count": 57,
   "id": "4b6bbbf8",
   "metadata": {},
   "outputs": [],
   "source": [
    "# generate weight vector w [num_annotations x 1]\n",
    "w = np.ones(num_annotations) * 5\n",
    "\n",
    "# sample which loci the causal SNPs will be located in [num_causal_snp x 1]\n",
    "cs_loci = rng.integers(low=0, high=num_loci, size=(num_cs))\n",
    "\n",
    "# simulated phenotype y [num_ppl x 1]\n",
    "y = np.zeros(num_ppl)"
   ]
  },
  {
   "cell_type": "code",
   "execution_count": 63,
   "id": "98b90834",
   "metadata": {},
   "outputs": [],
   "source": [
    "# dict of causal SNPs C: C[locus] --> causal SNPs within that locus\n",
    "# C[4] = [834, 232] means causal SNPs are located in locus 2 at SNP 834 and 232\n",
    "\n",
    "C = defaultdict(list)\n",
    "\n",
    "beta_thresh = 0.1 # threshold for which |beta| must be greater than"
   ]
  },
  {
   "cell_type": "markdown",
   "id": "9b616fe6",
   "metadata": {},
   "source": [
    "# Generate Synthetic Data"
   ]
  },
  {
   "cell_type": "code",
   "execution_count": 64,
   "id": "75891557",
   "metadata": {},
   "outputs": [],
   "source": [
    "def genotype_data(locus_num):\n",
    "    \"\"\" Extract genotype data X from dask array\n",
    "    \n",
    "    If SNP has any Nan values, remove the SNP completely. \n",
    "\n",
    "    Args:\n",
    "        locus_num (int): num of locus from which to extract genotype data\n",
    "\n",
    "    Returns:\n",
    "        X ([num_ppl x num_SNPs]): genotype data for specified locus\n",
    "    \"\"\"\n",
    "    \n",
    "    # extract genotype matrix X [num_ppl x num_SNPs]\n",
    "    X = bed.blocks[2*locus_num : 2*locus_num +2].compute().T \n",
    "    return X[:, ~np.any(np.isnan(X),axis=0)] # remove SNPs w/ Nan values\n",
    "\n",
    "def update_cs_indicies(C, locus_num, causal_idx):\n",
    "    \"\"\" Store SNP index and locus num of causal SNP in matrix C \n",
    "\n",
    "    Args:\n",
    "        C [num_cs x 2]: store indicies of causal SNP by locus num and SNP index\n",
    "        locus_num (int): num locus in which causal SNP appears\n",
    "        causal_idx [num_locus_cs x 1]: arr w/ indicies of causal SNP in given locus\n",
    "        offset (int): count how many causal SNPs already seen to correctly index into C\n",
    "    \"\"\"\n",
    "    \n",
    "    # iterate over number of causal SNPs in this locus\n",
    "    for i, snp_num in enumerate(causal_idx):\n",
    "        C[locus_num].append(snp_num)"
   ]
  },
  {
   "cell_type": "code",
   "execution_count": 66,
   "id": "edfe43c4",
   "metadata": {},
   "outputs": [],
   "source": [
    "# iterate over loci\n",
    "for l in range(num_loci):\n",
    "    X = genotype_data(l) # [num_ppl x num_SNPs]\n",
    "    num_ppl, num_snp = X.shape # shape of genotype matrix X\n",
    "    num_locus_cs = np.count_nonzero(l == cs_loci) # num of causal SNPs in locus l [1 x 1]\n",
    "\n",
    "    # sample functional annotations [num_snp x num_annotations]\n",
    "    A = rng.binomial(n=1, p=0.1, size=(num_snp, num_annotations)) # binomial with n=1 is bernoulli\n",
    "\n",
    "    # generate prior causality vector pi [num_snp x 1]\n",
    "    pi = softmax(A @ w)\n",
    "\n",
    "    # sample casual SNPs [num_locus_cs x 1] according to pi\n",
    "    causal_one_hot = rng.multinomial(n=1, pvals=pi, size=num_locus_cs) # multinomial with n=1 is categorical\n",
    "    causal_idx = causal_one_hot.argmax(axis=-1) # convert from one-hot encoding to arr of idicies with causal SNPs\n",
    "\n",
    "    update_cs_indicies(C, l, causal_idx)\n",
    "\n",
    "    # sample effect size [num_snp x 1] which is non-zero for causal SNPs only\n",
    "    beta = np.zeros(num_snp)\n",
    "    if num_locus_cs != 0:\n",
    "        # draw beta values until |beta| >= beta_threshhold\n",
    "        beta_samples = rng.multivariate_normal(mean=np.zeros(num_locus_cs), cov=np.eye(num_locus_cs))\n",
    "        while np.abs(beta_samples).any() < beta_thresh:\n",
    "             beta_samples = rng.multivariate_normal(mean=np.zeros(num_locus_cs), cov=np.eye(num_locus_cs))\n",
    "        beta[causal_idx] = beta_samples\n",
    "    # sample error [num_ppl]\n",
    "    eps = rng.multivariate_normal(mean=np.zeros(num_ppl), \n",
    "                             cov=np.eye(num_ppl) * 0.1)\n",
    "\n",
    "    # add the effect of causal SNPs in locus l (as captured by beta)\n",
    "    # and error term eps to simulated phenotype y [num_ppl x 1]\n",
    "    y = X @ beta + eps\n",
    "\n",
    "    # save genotype matrix X, phenotype vector y, and annotation matrix A\n",
    "    fname = path + 'loci_' + str(l)\n",
    "    np.savez_compressed(fname, genotype=X, phenotype=y, annotation=A)\n",
    "\n",
    "# save annotation weight vector w and causal SNPs matrix C\n",
    "fname = path + 'global_params'\n",
    "np.savez_compressed(fname, weight=w, cs_idx=C)\n",
    "        "
   ]
  },
  {
   "cell_type": "code",
   "execution_count": 67,
   "metadata": {},
   "outputs": [
    {
     "data": {
      "text/plain": [
       "array([0.09455521, 0.09455521, 0.09455521, 0.09455521, 0.09455521,\n",
       "       0.09455521, 0.09455521, 0.09455521, 0.09455521, 0.09455521])"
      ]
     },
     "execution_count": 67,
     "metadata": {},
     "output_type": "execute_result"
    }
   ],
   "source": [
    "np.sort(-pi)[:10] * -1"
   ]
  },
  {
   "cell_type": "code",
   "execution_count": 70,
   "id": "894d5270",
   "metadata": {},
   "outputs": [
    {
     "data": {
      "text/plain": [
       "(array([1076.,    0.,    0.,    0.,    0.,    0.,    0.,    0.,    0.,\n",
       "          10.]),\n",
       " array([2.89246569e-08, 9.45554661e-03, 1.89110643e-02, 2.83665820e-02,\n",
       "        3.78220997e-02, 4.72776174e-02, 5.67331350e-02, 6.61886527e-02,\n",
       "        7.56441704e-02, 8.50996881e-02, 9.45552058e-02]),\n",
       " <BarContainer object of 10 artists>)"
      ]
     },
     "execution_count": 70,
     "metadata": {},
     "output_type": "execute_result"
    },
    {
     "data": {
      "image/png": "[encoded data removed]",
      "text/plain": [
       "<Figure size 640x480 with 1 Axes>"
      ]
     },
     "metadata": {},
     "output_type": "display_data"
    }
   ],
   "source": [
    "import matplotlib.pyplot as plt\n",
    "plt.hist(pi)"
   ]
  }
 ],
 "metadata": {
  "kernelspec": {
   "display_name": "Python 3.10.6 ('fine-mapping')",
   "language": "python",
   "name": "python3"
  },
  "language_info": {
   "codemirror_mode": {
    "name": "ipython",
    "version": 3
   },
   "file_extension": ".py",
   "mimetype": "text/x-python",
   "name": "python",
   "nbconvert_exporter": "python",
   "pygments_lexer": "ipython3",
   "version": "3.10.8"
  },
  "vscode": {
   "interpreter": {
    "hash": "b7b8f5311c45006eb37b120b462539756cb37cad3b6f79cd2112c33baed2fe23"
   }
  }
 },
 "nbformat": 4,
 "nbformat_minor": 5
}
